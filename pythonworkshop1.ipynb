{
  "nbformat": 4,
  "nbformat_minor": 0,
  "metadata": {
    "colab": {
      "name": "pythonworkshop1.ipynb",
      "provenance": [],
      "collapsed_sections": [],
      "authorship_tag": "ABX9TyO4Em4gMg11qibcGAewyN2J",
      "include_colab_link": true
    },
    "kernelspec": {
      "name": "python3",
      "display_name": "Python 3"
    }
  },
  "cells": [
    {
      "cell_type": "markdown",
      "metadata": {
        "id": "view-in-github",
        "colab_type": "text"
      },
      "source": [
        "<a href=\"https://colab.research.google.com/github/Krushika123/C-coding-/blob/master/pythonworkshop1.ipynb\" target=\"_parent\"><img src=\"https://colab.research.google.com/assets/colab-badge.svg\" alt=\"Open In Colab\"/></a>"
      ]
    },
    {
      "cell_type": "markdown",
      "metadata": {
        "id": "4BOkKHHy3Zhz"
      },
      "source": [
        "hello world program\r\n"
      ]
    },
    {
      "cell_type": "code",
      "metadata": {
        "colab": {
          "base_uri": "https://localhost:8080/"
        },
        "id": "W7cjUR6S3Ptb",
        "outputId": "b51460d5-8993-4db6-aeef-efd3428593f3"
      },
      "source": [
        "print(\"hello\")"
      ],
      "execution_count": null,
      "outputs": [
        {
          "output_type": "stream",
          "text": [
            "hello\n"
          ],
          "name": "stdout"
        }
      ]
    },
    {
      "cell_type": "markdown",
      "metadata": {
        "id": "kXySI6HB549R"
      },
      "source": [
        "variable\r\n",
        "\r\n"
      ]
    },
    {
      "cell_type": "code",
      "metadata": {
        "colab": {
          "base_uri": "https://localhost:8080/"
        },
        "id": "BHYP-SE553C6",
        "outputId": "3f6105f1-3b9d-41a1-a18e-3a8bdad8d1fa"
      },
      "source": [
        "x=5\r\n",
        "y=\"john\"\r\n",
        "print(x)\r\n",
        "print(y)\r\n"
      ],
      "execution_count": null,
      "outputs": [
        {
          "output_type": "stream",
          "text": [
            "5\n",
            "john\n"
          ],
          "name": "stdout"
        }
      ]
    },
    {
      "cell_type": "code",
      "metadata": {
        "colab": {
          "base_uri": "https://localhost:8080/"
        },
        "id": "-rwU7QiW9awk",
        "outputId": "6a252fc9-5d37-4608-edfb-50ba891b0ba7"
      },
      "source": [
        "x,y,z=5,\"python\",3.99\r\n",
        "print(x)\r\n",
        "print(y)\r\n",
        "print(z)"
      ],
      "execution_count": null,
      "outputs": [
        {
          "output_type": "stream",
          "text": [
            "5\n",
            "python\n",
            "3.99\n"
          ],
          "name": "stdout"
        }
      ]
    },
    {
      "cell_type": "code",
      "metadata": {
        "colab": {
          "base_uri": "https://localhost:8080/"
        },
        "id": "qRQYfcxY_SVz",
        "outputId": "e8f68ad4-c0b4-4912-c153-7d1e3195b8e2"
      },
      "source": [
        "def myfunc():\r\n",
        "  x=\"awesome\"\r\n",
        "  print(\"python is\" + x) \r\n",
        "\r\n",
        "myfunc()\r\n"
      ],
      "execution_count": null,
      "outputs": [
        {
          "output_type": "stream",
          "text": [
            "python isawesome\n"
          ],
          "name": "stdout"
        }
      ]
    },
    {
      "cell_type": "markdown",
      "metadata": {
        "id": "h2zqfSIQBIJ6"
      },
      "source": [
        "exercise-1\r\n"
      ]
    },
    {
      "cell_type": "code",
      "metadata": {
        "colab": {
          "base_uri": "https://localhost:8080/"
        },
        "id": "2qNPP8YkBCN9",
        "outputId": "d49ad45d-bf9e-471e-c17e-f91adeb71279"
      },
      "source": [
        "carname=\"volvo\"\r\n",
        "print(carname)"
      ],
      "execution_count": null,
      "outputs": [
        {
          "output_type": "stream",
          "text": [
            "volvo\n"
          ],
          "name": "stdout"
        }
      ]
    },
    {
      "cell_type": "markdown",
      "metadata": {
        "id": "essYLyzWCjz_"
      },
      "source": [
        "exercise-2"
      ]
    },
    {
      "cell_type": "code",
      "metadata": {
        "colab": {
          "base_uri": "https://localhost:8080/"
        },
        "id": "6-OgrOowBcic",
        "outputId": "f2d2e29b-a784-48aa-c15f-dd3ab1751f9f"
      },
      "source": [
        "x=50\r\n",
        "print(x,type(x))"
      ],
      "execution_count": null,
      "outputs": [
        {
          "output_type": "stream",
          "text": [
            "50 <class 'int'>\n"
          ],
          "name": "stdout"
        }
      ]
    },
    {
      "cell_type": "markdown",
      "metadata": {
        "id": "7GzOIsyqCyAR"
      },
      "source": [
        "exercise-3"
      ]
    },
    {
      "cell_type": "code",
      "metadata": {
        "colab": {
          "base_uri": "https://localhost:8080/"
        },
        "id": "yh5SiUSHCUzc",
        "outputId": "81abace2-4a5c-4793-b58c-74fbeba848d4"
      },
      "source": [
        "x=5\r\n",
        "y=10\r\n",
        "print(x+y)"
      ],
      "execution_count": null,
      "outputs": [
        {
          "output_type": "stream",
          "text": [
            "15\n"
          ],
          "name": "stdout"
        }
      ]
    },
    {
      "cell_type": "markdown",
      "metadata": {
        "id": "kbwxw-CoC3ca"
      },
      "source": [
        "exercise-4"
      ]
    },
    {
      "cell_type": "code",
      "metadata": {
        "colab": {
          "base_uri": "https://localhost:8080/"
        },
        "id": "sr0rnZG_BM2c",
        "outputId": "416dfe9e-8f74-4692-fe1f-d089f4c9b3bc"
      },
      "source": [
        "x,y=11,17\r\n",
        "z=x+y\r\n",
        "print(z)"
      ],
      "execution_count": null,
      "outputs": [
        {
          "output_type": "stream",
          "text": [
            "28\n"
          ],
          "name": "stdout"
        }
      ]
    },
    {
      "cell_type": "code",
      "metadata": {
        "colab": {
          "base_uri": "https://localhost:8080/"
        },
        "id": "dp0QP1QlPzcI",
        "outputId": "453bc721-ae55-4663-edae-8fcb500b9ca7"
      },
      "source": [
        "x1=\"hello world\"   #string\r\n",
        "x2=5  #integer\r\n",
        "x3=5.35  #float\r\n",
        "x4=[\"apple\",\"banana\",\"orange\"]  #list\r\n",
        "x5=(\"apple\",\"banana\",\"orange\") #tuple\r\n",
        "x6=range(6) #range\r\n",
        "x7={\"name\": \"johnwick\",\"age\":36} #dictionary\r\n",
        "x8={\"apple\",\"banana\",\"cherry\"} #set\r\n",
        "x9= True #bool\r\n",
        "print(type(x1))\r\n",
        "print(type(x2))\r\n",
        "print(type(x3))\r\n",
        "print(type(x4))\r\n",
        "print(type(x5))\r\n",
        "print(type(x6))\r\n",
        "print(type(x7))\r\n",
        "print(type(x8))\r\n",
        "print(type(x9 ))\r\n"
      ],
      "execution_count": null,
      "outputs": [
        {
          "output_type": "stream",
          "text": [
            "<class 'str'>\n",
            "<class 'int'>\n",
            "<class 'float'>\n",
            "<class 'list'>\n",
            "<class 'tuple'>\n",
            "<class 'range'>\n",
            "<class 'dict'>\n",
            "<class 'set'>\n",
            "<class 'bool'>\n"
          ],
          "name": "stdout"
        }
      ]
    },
    {
      "cell_type": "code",
      "metadata": {
        "colab": {
          "base_uri": "https://localhost:8080/"
        },
        "id": "PCVHMtv1T1Fn",
        "outputId": "189c1370-3c25-4de5-ece7-4420b9302e0e"
      },
      "source": [
        "x=range(1,5,2)\r\n",
        "print(list(x))"
      ],
      "execution_count": null,
      "outputs": [
        {
          "output_type": "stream",
          "text": [
            "[1, 3]\n"
          ],
          "name": "stdout"
        }
      ]
    },
    {
      "cell_type": "code",
      "metadata": {
        "colab": {
          "base_uri": "https://localhost:8080/"
        },
        "id": "omNHWUtbWvTO",
        "outputId": "ca167090-1b4c-49ae-d30a-b869aba4a487"
      },
      "source": [
        "x={1,2,3,2}\r\n",
        "print(x)"
      ],
      "execution_count": null,
      "outputs": [
        {
          "output_type": "stream",
          "text": [
            "{1, 2, 3}\n"
          ],
          "name": "stdout"
        }
      ]
    },
    {
      "cell_type": "code",
      "metadata": {
        "colab": {
          "base_uri": "https://localhost:8080/"
        },
        "id": "6Jk_zKRaXrtU",
        "outputId": "bf22a9c3-4ae0-4444-b121-19c4f159d505"
      },
      "source": [
        "x=1\r\n",
        "y=2.8\r\n",
        "z=1j\r\n",
        "a=float(x)\r\n",
        "b=int(y)\r\n",
        "c=complex(x)\r\n",
        "print(a)\r\n",
        "print(b)\r\n",
        "print(c)"
      ],
      "execution_count": null,
      "outputs": [
        {
          "output_type": "stream",
          "text": [
            "1.0\n",
            "2\n",
            "(1+0j)\n"
          ],
          "name": "stdout"
        }
      ]
    },
    {
      "cell_type": "markdown",
      "metadata": {
        "id": "TAQiqrMDbWDC"
      },
      "source": [
        "assignment"
      ]
    },
    {
      "cell_type": "code",
      "metadata": {
        "colab": {
          "base_uri": "https://localhost:8080/"
        },
        "id": "hLi_frTRabFW",
        "outputId": "8d01647e-1a9c-4e69-f62c-32cf0e3d79c6"
      },
      "source": [
        "x=\"2\"\r\n",
        "y=\"3\"\r\n",
        "print(x+y)"
      ],
      "execution_count": null,
      "outputs": [
        {
          "output_type": "stream",
          "text": [
            "23\n"
          ],
          "name": "stdout"
        }
      ]
    },
    {
      "cell_type": "code",
      "metadata": {
        "colab": {
          "base_uri": "https://localhost:8080/"
        },
        "id": "Lxq6CVeldojc",
        "outputId": "a9f38665-7349-4908-9d70-dc9fe512d48e"
      },
      "source": [
        "name=\"krushika\"\r\n",
        "print(name)\r\n",
        "print(type(name))"
      ],
      "execution_count": null,
      "outputs": [
        {
          "output_type": "stream",
          "text": [
            "krushika\n",
            "<class 'str'>\n"
          ],
          "name": "stdout"
        }
      ]
    },
    {
      "cell_type": "code",
      "metadata": {
        "colab": {
          "base_uri": "https://localhost:8080/"
        },
        "id": "7r_8yRxheUmk",
        "outputId": "da9f0b89-9789-4d9d-cb93-9f60dc369bbc"
      },
      "source": [
        "name=\"krushika\"\r\n",
        "print(name[7])"
      ],
      "execution_count": null,
      "outputs": [
        {
          "output_type": "stream",
          "text": [
            "a\n"
          ],
          "name": "stdout"
        }
      ]
    },
    {
      "cell_type": "code",
      "metadata": {
        "colab": {
          "base_uri": "https://localhost:8080/"
        },
        "id": "ZwQFypXweh07",
        "outputId": "9856a1ce-4af9-4a24-ffcd-a31afbab97da"
      },
      "source": [
        "name=\"krushi\"\r\n",
        "print(len(name))"
      ],
      "execution_count": null,
      "outputs": [
        {
          "output_type": "stream",
          "text": [
            "6\n"
          ],
          "name": "stdout"
        }
      ]
    },
    {
      "cell_type": "code",
      "metadata": {
        "colab": {
          "base_uri": "https://localhost:8080/"
        },
        "id": "nXGCgKtQfbSH",
        "outputId": "53c2f37a-8d0f-457f-c439-397ac3abb9db"
      },
      "source": [
        "txt=\"things in life are free!!\"\r\n",
        "print(\"life\" in txt)"
      ],
      "execution_count": null,
      "outputs": [
        {
          "output_type": "stream",
          "text": [
            "True\n"
          ],
          "name": "stdout"
        }
      ]
    },
    {
      "cell_type": "code",
      "metadata": {
        "colab": {
          "base_uri": "https://localhost:8080/"
        },
        "id": "xmMRF2_7gS6v",
        "outputId": "fa9c4669-eb0e-4c85-dc05-4ea13c84d80d"
      },
      "source": [
        "txt=\"things in life are free!!\"\r\n",
        "print(txt[6:])\r\n",
        "b=\"hello world\"\r\n",
        "print(b[-5:-2])"
      ],
      "execution_count": null,
      "outputs": [
        {
          "output_type": "stream",
          "text": [
            " in life are free!!\n",
            "wor\n"
          ],
          "name": "stdout"
        }
      ]
    },
    {
      "cell_type": "code",
      "metadata": {
        "colab": {
          "base_uri": "https://localhost:8080/"
        },
        "id": "s4tg39AxhyYf",
        "outputId": "91d242f9-7ba7-4df9-8a82-225578052cca"
      },
      "source": [
        "a=\"Hello,World!!\"\r\n",
        "print(a.upper())"
      ],
      "execution_count": null,
      "outputs": [
        {
          "output_type": "stream",
          "text": [
            "HELLO,WORLD!!\n"
          ],
          "name": "stdout"
        }
      ]
    },
    {
      "cell_type": "code",
      "metadata": {
        "colab": {
          "base_uri": "https://localhost:8080/"
        },
        "id": "EAMqKM2pfpPu",
        "outputId": "ce826de8-89f3-4d3f-e6fa-6450fe07f0e1"
      },
      "source": [
        "a=\"HELLO,WORLD!!\"\r\n",
        "print(a.lower())"
      ],
      "execution_count": null,
      "outputs": [
        {
          "output_type": "stream",
          "text": [
            "hello,world!!\n"
          ],
          "name": "stdout"
        }
      ]
    },
    {
      "cell_type": "code",
      "metadata": {
        "colab": {
          "base_uri": "https://localhost:8080/"
        },
        "id": "4F10BriUjS0J",
        "outputId": "6f0b4d10-9761-4879-fd07-ed63032faca2"
      },
      "source": [
        "age=36\r\n",
        "txt=\"my name is john,I am {}\"\r\n",
        "print(txt.format(age))"
      ],
      "execution_count": null,
      "outputs": [
        {
          "output_type": "stream",
          "text": [
            "my name is john,I am 36\n"
          ],
          "name": "stdout"
        }
      ]
    },
    {
      "cell_type": "code",
      "metadata": {
        "colab": {
          "base_uri": "https://localhost:8080/"
        },
        "id": "nfzvOKslkOWn",
        "outputId": "a53558ce-7595-48db-a6a5-11707881d602"
      },
      "source": [
        "txt=\"hello\\tworld!!\"\r\n",
        "print(txt)"
      ],
      "execution_count": null,
      "outputs": [
        {
          "output_type": "stream",
          "text": [
            "hello\tworld!!\n"
          ],
          "name": "stdout"
        }
      ]
    },
    {
      "cell_type": "code",
      "metadata": {
        "colab": {
          "base_uri": "https://localhost:8080/"
        },
        "id": "5H-6CSEakVxb",
        "outputId": "1dd434bf-51df-48ef-ce56-b98201fbb0b3"
      },
      "source": [
        "txt=\"krushika\"\r\n",
        "x=txt.capitalize()\r\n",
        "print(x)"
      ],
      "execution_count": null,
      "outputs": [
        {
          "output_type": "stream",
          "text": [
            "Krushika\n"
          ],
          "name": "stdout"
        }
      ]
    },
    {
      "cell_type": "code",
      "metadata": {
        "colab": {
          "base_uri": "https://localhost:8080/"
        },
        "id": "imwYgc_OlDWi",
        "outputId": "7c818f58-71e1-4f7b-fd99-682279ecb21c"
      },
      "source": [
        "txt=\"krushika\"\r\n",
        "print(txt.isalpha())"
      ],
      "execution_count": null,
      "outputs": [
        {
          "output_type": "stream",
          "text": [
            "True\n"
          ],
          "name": "stdout"
        }
      ]
    },
    {
      "cell_type": "code",
      "metadata": {
        "id": "GBQv-XJNlLRq",
        "colab": {
          "base_uri": "https://localhost:8080/"
        },
        "outputId": "6dfd5f2d-f6a0-4263-9b05-f559e2ac0abc"
      },
      "source": [
        "name=\"alvas\"\r\n",
        "print(name)\r\n",
        "print(len(name))\r\n",
        "print(name[0:4])\r\n",
        "print(name.upper())\r\n",
        "print(name+\"college\")\r\n",
        "name=name+\"{}\"\r\n",
        "print(name.format(\"college\"))\r\n",
        "print(name.isdigit())\r\n",
        "\r\n"
      ],
      "execution_count": null,
      "outputs": [
        {
          "output_type": "stream",
          "text": [
            "alvas\n",
            "5\n",
            "alva\n",
            "ALVAS\n",
            "alvascollege\n",
            "alvascollege\n",
            "False\n"
          ],
          "name": "stdout"
        }
      ]
    },
    {
      "cell_type": "code",
      "metadata": {
        "colab": {
          "base_uri": "https://localhost:8080/"
        },
        "id": "6UUBz8Ol5OJh",
        "outputId": "35b94cfe-f69f-40fe-be8d-2b19d90da684"
      },
      "source": [
        "x=5\r\n",
        "x+=3\r\n",
        "print(x)"
      ],
      "execution_count": null,
      "outputs": [
        {
          "output_type": "stream",
          "text": [
            "8\n"
          ],
          "name": "stdout"
        }
      ]
    },
    {
      "cell_type": "code",
      "metadata": {
        "colab": {
          "base_uri": "https://localhost:8080/"
        },
        "id": "KLmk-glk7uDE",
        "outputId": "5924c804-c62f-489d-acd8-18188cbea4ec"
      },
      "source": [
        "x=5\r\n",
        "y=3\r\n",
        "print(x==y)\r\n",
        "print(x!=y)\r\n",
        "print(x>y)\r\n",
        "print(x<y)"
      ],
      "execution_count": null,
      "outputs": [
        {
          "output_type": "stream",
          "text": [
            "False\n",
            "True\n",
            "True\n",
            "False\n"
          ],
          "name": "stdout"
        }
      ]
    },
    {
      "cell_type": "code",
      "metadata": {
        "colab": {
          "base_uri": "https://localhost:8080/"
        },
        "id": "Wt5CrNfB8Vsf",
        "outputId": "9e74cae2-0115-4d20-acbd-ce7872600836"
      },
      "source": [
        "print(3>0 and 3<8)"
      ],
      "execution_count": null,
      "outputs": [
        {
          "output_type": "stream",
          "text": [
            "True\n"
          ],
          "name": "stdout"
        }
      ]
    },
    {
      "cell_type": "code",
      "metadata": {
        "colab": {
          "base_uri": "https://localhost:8080/"
        },
        "id": "DoWCtYZ09eyz",
        "outputId": "5ccf0e19-eb42-4e4b-ed6e-d2bb7ee74d10"
      },
      "source": [
        "print(3>0 or 3<8)"
      ],
      "execution_count": null,
      "outputs": [
        {
          "output_type": "stream",
          "text": [
            "True\n"
          ],
          "name": "stdout"
        }
      ]
    },
    {
      "cell_type": "code",
      "metadata": {
        "colab": {
          "base_uri": "https://localhost:8080/"
        },
        "id": "Vlv5rxy3-B0-",
        "outputId": "75baa8f7-6ec5-4bf2-949d-4de175fc277a"
      },
      "source": [
        "x=3\r\n",
        "x+=5\r\n",
        "print(x)\r\n",
        "x-=5\r\n",
        "print(x)\r\n",
        "x*=5\r\n",
        "print(x)\r\n",
        "x%=3\r\n",
        "print(x)"
      ],
      "execution_count": null,
      "outputs": [
        {
          "output_type": "stream",
          "text": [
            "8\n",
            "3\n",
            "15\n",
            "0\n"
          ],
          "name": "stdout"
        }
      ]
    },
    {
      "cell_type": "code",
      "metadata": {
        "colab": {
          "base_uri": "https://localhost:8080/"
        },
        "id": "W5le0MGT-zMA",
        "outputId": "74c14fb6-7559-4a5f-9d2e-819b44d8ed0b"
      },
      "source": [
        "x=24\r\n",
        "y=4\r\n",
        "print(x+y)\r\n",
        "print(x-y)\r\n",
        "print(x*y)\r\n",
        "print(x%y)\r\n",
        "print(x/y)\r\n",
        "print(24**4)"
      ],
      "execution_count": null,
      "outputs": [
        {
          "output_type": "stream",
          "text": [
            "28\n",
            "20\n",
            "96\n",
            "0\n",
            "6.0\n",
            "331776\n"
          ],
          "name": "stdout"
        }
      ]
    },
    {
      "cell_type": "code",
      "metadata": {
        "colab": {
          "base_uri": "https://localhost:8080/"
        },
        "id": "A9zNRUJu_yj_",
        "outputId": "c31e409b-3de6-4b04-e9e5-deb79734e574"
      },
      "source": [
        "thislist=[\"krushi\",\"vasu\",\"vicky\"]\r\n",
        "print(thislist)"
      ],
      "execution_count": null,
      "outputs": [
        {
          "output_type": "stream",
          "text": [
            "['krushi', 'vasu', 'vicky']\n"
          ],
          "name": "stdout"
        }
      ]
    },
    {
      "cell_type": "code",
      "metadata": {
        "colab": {
          "base_uri": "https://localhost:8080/"
        },
        "id": "EuRJrJBCEnHP",
        "outputId": "a0f9941a-aa0e-4252-a779-c9aa72ae02ab"
      },
      "source": [
        "thislist=[\"krushi\",\"vasu\",\"vicky\"]\r\n",
        "print(len(thislist))"
      ],
      "execution_count": null,
      "outputs": [
        {
          "output_type": "stream",
          "text": [
            "3\n"
          ],
          "name": "stdout"
        }
      ]
    },
    {
      "cell_type": "code",
      "metadata": {
        "colab": {
          "base_uri": "https://localhost:8080/"
        },
        "id": "9ArTxBb0E7Mu",
        "outputId": "7d88f602-c273-4dd3-e925-aacb65971959"
      },
      "source": [
        "l=list((\"cse\",\"ecs\",\"ise\"))\r\n",
        "print(l)"
      ],
      "execution_count": null,
      "outputs": [
        {
          "output_type": "stream",
          "text": [
            "['cse', 'ecs', 'ise']\n"
          ],
          "name": "stdout"
        }
      ]
    },
    {
      "cell_type": "code",
      "metadata": {
        "colab": {
          "base_uri": "https://localhost:8080/"
        },
        "id": "7oTbDr67FOoN",
        "outputId": "e247f872-ec19-41de-bdbc-96fdc19a1e87"
      },
      "source": [
        "l=list((\"cse\",\"ecs\",\"ise\"))\r\n",
        "print(l[1])"
      ],
      "execution_count": null,
      "outputs": [
        {
          "output_type": "stream",
          "text": [
            "ecs\n"
          ],
          "name": "stdout"
        }
      ]
    },
    {
      "cell_type": "code",
      "metadata": {
        "colab": {
          "base_uri": "https://localhost:8080/"
        },
        "id": "AE3HBZA_Fz6Q",
        "outputId": "dc4b2160-65e4-421d-d525-faaca63f88ac"
      },
      "source": [
        "l=list((\"cse\",\"ecs\",\"ise\",\"mech\",\"civil\",\"ai\"))\r\n",
        "print(l[-4:-1])"
      ],
      "execution_count": null,
      "outputs": [
        {
          "output_type": "stream",
          "text": [
            "['ise', 'mech', 'civil']\n"
          ],
          "name": "stdout"
        }
      ]
    },
    {
      "cell_type": "code",
      "metadata": {
        "colab": {
          "base_uri": "https://localhost:8080/"
        },
        "id": "26Bbk1HqHe7E",
        "outputId": "e50bccab-a581-4fee-a8a9-aa43b45f0960"
      },
      "source": [
        "thislist=[\"apple\",\"banana\",\"cherry\"]\r\n",
        "print(len(thislist))\r\n",
        "thislist.append(\"orange\")\r\n",
        "print(thislist)\r\n",
        "print(len(thislist))"
      ],
      "execution_count": null,
      "outputs": [
        {
          "output_type": "stream",
          "text": [
            "3\n",
            "['apple', 'banana', 'cherry', 'orange']\n",
            "4\n"
          ],
          "name": "stdout"
        }
      ]
    },
    {
      "cell_type": "code",
      "metadata": {
        "colab": {
          "base_uri": "https://localhost:8080/"
        },
        "id": "-MmRQL3AIFTG",
        "outputId": "fde0bb41-e411-4014-da73-3116e1c9c2f8"
      },
      "source": [
        "thisliat=[\"apple\",\"banana\",\"cherry\"]\r\n",
        "tropical=[\"mango\",\"pineappple\",\"papaya\"]\r\n",
        "thislist.extend(tropical)\r\n",
        "print(thislist)"
      ],
      "execution_count": null,
      "outputs": [
        {
          "output_type": "stream",
          "text": [
            "['apple', 'banana', 'cherry', 'orange', 'mango', 'pineappple', 'papaya', 'mango', 'pineappple', 'papaya']\n"
          ],
          "name": "stdout"
        }
      ]
    },
    {
      "cell_type": "code",
      "metadata": {
        "colab": {
          "base_uri": "https://localhost:8080/"
        },
        "id": "g7NPBnEVI1vv",
        "outputId": "4222c6c8-532a-4dc6-eb65-bf9d913b5e50"
      },
      "source": [
        "thislist=[\"apple\",\"banana\",\"cherry\"]\r\n",
        "tropical=[\"mango\",\"pineappple\",\"papaya\"]\r\n",
        "newlist=thislist+tropical\r\n",
        "print(newlist)"
      ],
      "execution_count": null,
      "outputs": [
        {
          "output_type": "stream",
          "text": [
            "['apple', 'banana', 'cherry', 'mango', 'pineappple', 'papaya']\n"
          ],
          "name": "stdout"
        }
      ]
    },
    {
      "cell_type": "code",
      "metadata": {
        "colab": {
          "base_uri": "https://localhost:8080/"
        },
        "id": "ge--_5FQJTRw",
        "outputId": "b9d91338-a0db-4daf-f977-7169ac4be478"
      },
      "source": [
        "thislist=[\"apple\",\"banana\",\"cherry\"]\r\n",
        "print(len(thislist))\r\n",
        "thislist.pop(1)\r\n",
        "print(thislist)\r\n",
        "print(len(thislist))\r\n"
      ],
      "execution_count": null,
      "outputs": [
        {
          "output_type": "stream",
          "text": [
            "3\n",
            "['apple', 'cherry']\n",
            "2\n"
          ],
          "name": "stdout"
        }
      ]
    },
    {
      "cell_type": "code",
      "metadata": {
        "colab": {
          "base_uri": "https://localhost:8080/"
        },
        "id": "YmrKmDUbJ0w-",
        "outputId": "b639d056-3d06-4c4f-88be-907d2811adc5"
      },
      "source": [
        "thislist=[\"apple\",\"banana\",\"cherry\"]\r\n",
        "del thislist[0]\r\n",
        "print(thislist)"
      ],
      "execution_count": null,
      "outputs": [
        {
          "output_type": "stream",
          "text": [
            "['banana', 'cherry']\n"
          ],
          "name": "stdout"
        }
      ]
    },
    {
      "cell_type": "code",
      "metadata": {
        "colab": {
          "base_uri": "https://localhost:8080/"
        },
        "id": "0X_h9TEaKlJk",
        "outputId": "8a5116c4-4874-4156-e433-18f9ecdf249e"
      },
      "source": [
        "thislist=[100,50,65,82,23]  #timsort\r\n",
        "thislist.sort()\r\n",
        "print(thislist)"
      ],
      "execution_count": null,
      "outputs": [
        {
          "output_type": "stream",
          "text": [
            "[23, 50, 65, 82, 100]\n"
          ],
          "name": "stdout"
        }
      ]
    },
    {
      "cell_type": "code",
      "metadata": {
        "colab": {
          "base_uri": "https://localhost:8080/"
        },
        "id": "CtiQgPy5LEPA",
        "outputId": "8773eb72-0d59-43bd-fcbf-4b11ff0e5549"
      },
      "source": [
        "thislist=[100,50,65,82,23]  #timsort\r\n",
        "thislist.sort(reverse= True)\r\n",
        "print(thislist)"
      ],
      "execution_count": null,
      "outputs": [
        {
          "output_type": "stream",
          "text": [
            "[100, 82, 65, 50, 23]\n"
          ],
          "name": "stdout"
        }
      ]
    },
    {
      "cell_type": "code",
      "metadata": {
        "colab": {
          "base_uri": "https://localhost:8080/"
        },
        "id": "qONR-S_JLded",
        "outputId": "ab048c70-4ac9-4898-ad89-e5fc1189873e"
      },
      "source": [
        "thislist=[100,50,65,82,23]\r\n",
        "thislist=thislist[::-1]\r\n",
        "\r\n",
        "print(thislist)"
      ],
      "execution_count": null,
      "outputs": [
        {
          "output_type": "stream",
          "text": [
            "[23, 82, 65, 50, 100]\n"
          ],
          "name": "stdout"
        }
      ]
    },
    {
      "cell_type": "code",
      "metadata": {
        "colab": {
          "base_uri": "https://localhost:8080/"
        },
        "id": "KaYt8dmJMQvQ",
        "outputId": "d577dce2-c624-47d5-8134-4a0b5c4f9b5a"
      },
      "source": [
        "namelist=[\"harsh\",\"pratik\",\"bob\",\"dhruv\"]\r\n",
        "print(namelist[1])"
      ],
      "execution_count": null,
      "outputs": [
        {
          "output_type": "stream",
          "text": [
            "pratik\n"
          ],
          "name": "stdout"
        }
      ]
    },
    {
      "cell_type": "code",
      "metadata": {
        "colab": {
          "base_uri": "https://localhost:8080/"
        },
        "id": "1Cy2-Rt2Mv2A",
        "outputId": "e60eebab-e583-4571-9131-4d5f56000b79"
      },
      "source": [
        "ani=[\"cat\",\"dog\",\"fish\",\"goat\"]\r\n",
        "age=[1,2,2,6]\r\n",
        "ani.extend(age)\r\n",
        "print(ani)\r\n",
        "newlist=ani+age\r\n",
        "print(newlist)"
      ],
      "execution_count": null,
      "outputs": [
        {
          "output_type": "stream",
          "text": [
            "['cat', 'dog', 'fish', 'goat', 1, 2, 2, 6]\n",
            "['cat', 'dog', 'fish', 'goat', 1, 2, 2, 6, 1, 2, 2, 6]\n"
          ],
          "name": "stdout"
        }
      ]
    },
    {
      "cell_type": "code",
      "metadata": {
        "colab": {
          "base_uri": "https://localhost:8080/"
        },
        "id": "LYXlBEmZNglA",
        "outputId": "6953a5db-0629-48e2-9d77-d2925bcd14ce"
      },
      "source": [
        "age=[1,2,3,6]\r\n",
        "print(age.count(3))\r\n",
        "age.append(\"9\")\r\n",
        "age.pop(2)\r\n",
        "print(age)\r\n",
        "print(age.count(3))"
      ],
      "execution_count": null,
      "outputs": [
        {
          "output_type": "stream",
          "text": [
            "1\n",
            "[1, 2, 6, '9']\n",
            "0\n"
          ],
          "name": "stdout"
        }
      ]
    },
    {
      "cell_type": "code",
      "metadata": {
        "colab": {
          "base_uri": "https://localhost:8080/"
        },
        "id": "lVtNtMIrO6wW",
        "outputId": "b21d977c-f7e9-4b0f-acf3-5da2b3e7101a"
      },
      "source": [
        "thistuple=(\"apple\",\"banana\",\"cherry\")\r\n",
        "print(thistuple)"
      ],
      "execution_count": null,
      "outputs": [
        {
          "output_type": "stream",
          "text": [
            "('apple', 'banana', 'cherry')\n"
          ],
          "name": "stdout"
        }
      ]
    },
    {
      "cell_type": "code",
      "metadata": {
        "colab": {
          "base_uri": "https://localhost:8080/"
        },
        "id": "3Ly0KP_IRbwl",
        "outputId": "9c2d764f-042a-4fd1-c58e-ed1da3bc3495"
      },
      "source": [
        "x=(\"apple\",\"banana\",\"cheery\")\r\n",
        "y=list(x)\r\n",
        "y[1]=\"kiwi\"\r\n",
        "x=tuple(y)\r\n",
        "print(x)"
      ],
      "execution_count": null,
      "outputs": [
        {
          "output_type": "stream",
          "text": [
            "('apple', 'kiwi', 'cheery')\n"
          ],
          "name": "stdout"
        }
      ]
    },
    {
      "cell_type": "code",
      "metadata": {
        "colab": {
          "base_uri": "https://localhost:8080/"
        },
        "id": "fHtt7BAcSo2k",
        "outputId": "20644e3f-9c81-4a8f-d73e-5a32331ad206"
      },
      "source": [
        "x=(\"apple\",\"banana\",\"cheery\")\r\n",
        "print(len(x))"
      ],
      "execution_count": null,
      "outputs": [
        {
          "output_type": "stream",
          "text": [
            "3\n"
          ],
          "name": "stdout"
        }
      ]
    },
    {
      "cell_type": "code",
      "metadata": {
        "colab": {
          "base_uri": "https://localhost:8080/"
        },
        "id": "SeemJV5mTLPt",
        "outputId": "7e7ad71a-6733-49f7-e975-84cc3a03d3a0"
      },
      "source": [
        "fruit=(\"apple\",\"banana\",\"cheery\")\r\n",
        "y=list(fruit)\r\n",
        "y[1]=\"kiwi\"\r\n",
        "x=tuple(y)\r\n",
        "y.append(\"banana\")\r\n",
        "print(y)\r\n",
        "print(y[-1])\r\n",
        "print(y[-4])\r\n",
        "\r\n"
      ],
      "execution_count": null,
      "outputs": [
        {
          "output_type": "stream",
          "text": [
            "['apple', 'kiwi', 'cheery', 'banana']\n",
            "banana\n",
            "apple\n"
          ],
          "name": "stdout"
        }
      ]
    },
    {
      "cell_type": "code",
      "metadata": {
        "id": "oipqYvtAUXDi",
        "colab": {
          "base_uri": "https://localhost:8080/"
        },
        "outputId": "fa6caefc-d196-4df0-b00f-254d6719eb60"
      },
      "source": [
        "thislist= []\n",
        "thislist.append(input(\"Enter your name >> \"))\n",
        "print()\n",
        "thislist.append(input(\"Enter your USN >> \"))\n",
        "print()\n",
        "branch = input(\"Enter your Branch >> \")\n",
        "phno = int(input(\"Enter your mobile number >> \"))\n",
        "sec = input(\"Enter your section >> \")\n",
        "thislist.append(branch)\n",
        "thislist.append(phno)\n",
        "thislist.append(sec)\n",
        "print()\n",
        "thislist.reverse()\n",
        "print(thislist)"
      ],
      "execution_count": null,
      "outputs": [
        {
          "output_type": "stream",
          "text": [
            "Enter your name >> krushika\n",
            "\n",
            "Enter your USN >> 4al19cs048\n",
            "\n",
            "Enter your Branch >> cse\n",
            "Enter your mobile number >> 809974837\n",
            "Enter your section >> a\n",
            "\n",
            "['a', 809974837, 'cse', '4al19cs048', 'krushika']\n"
          ],
          "name": "stdout"
        }
      ]
    },
    {
      "cell_type": "code",
      "metadata": {
        "colab": {
          "base_uri": "https://localhost:8080/"
        },
        "id": "sazOo-fO7Vyf",
        "outputId": "09114af6-66ec-4b7b-fef2-27a7e6e8d50c"
      },
      "source": [
        "numbers={1,2,3,4}\r\n",
        "print(numbers)"
      ],
      "execution_count": null,
      "outputs": [
        {
          "output_type": "stream",
          "text": [
            "{1, 2, 3, 4}\n"
          ],
          "name": "stdout"
        }
      ]
    },
    {
      "cell_type": "code",
      "metadata": {
        "colab": {
          "base_uri": "https://localhost:8080/"
        },
        "id": "XUBgjynv-i_1",
        "outputId": "3a1cb66a-8e9a-40b3-b4f0-28038dd85e20"
      },
      "source": [
        "a=set(('mech','ece','cse','ise'))\r\n",
        "print(len(a))\r\n",
        "a.add('mech')\r\n",
        "print(len(a))\r\n",
        "print(a)"
      ],
      "execution_count": null,
      "outputs": [
        {
          "output_type": "stream",
          "text": [
            "4\n",
            "4\n",
            "{'mech', 'cse', 'ece', 'ise'}\n"
          ],
          "name": "stdout"
        }
      ]
    },
    {
      "cell_type": "code",
      "metadata": {
        "colab": {
          "base_uri": "https://localhost:8080/"
        },
        "id": "H3ohL9JJ_bGO",
        "outputId": "d4facda2-8ee9-4465-8366-7a411aa09589"
      },
      "source": [
        "a=set(('mech','ece','cse','ise'))\r\n",
        "a.remove('mech')\r\n",
        "a.discard('cse')\r\n",
        "delete=a.pop()\r\n",
        "print(delete)\r\n",
        "print(a)"
      ],
      "execution_count": null,
      "outputs": [
        {
          "output_type": "stream",
          "text": [
            "ece\n",
            "{'ise'}\n"
          ],
          "name": "stdout"
        }
      ]
    },
    {
      "cell_type": "code",
      "metadata": {
        "colab": {
          "base_uri": "https://localhost:8080/"
        },
        "id": "b2xVqfqVAy3f",
        "outputId": "b5138076-3940-49c2-e968-86e54e312080"
      },
      "source": [
        "thisset={\"apple\",\"banana\",\"cherry\"}\r\n",
        "thisset.clear()\r\n",
        "print(thisset)"
      ],
      "execution_count": null,
      "outputs": [
        {
          "output_type": "stream",
          "text": [
            "set()\n"
          ],
          "name": "stdout"
        }
      ]
    },
    {
      "cell_type": "code",
      "metadata": {
        "colab": {
          "base_uri": "https://localhost:8080/"
        },
        "id": "kWujoXOpCUmu",
        "outputId": "bb65c6ff-1bdf-4af8-9452-eaf5a915c0fb"
      },
      "source": [
        "set1={\"a\",\"b\",\"c\"}\r\n",
        "set2={1,2,3}\r\n",
        "set3=set1.union(set2)\r\n",
        "print(set3)"
      ],
      "execution_count": null,
      "outputs": [
        {
          "output_type": "stream",
          "text": [
            "{'c', 1, 2, 3, 'b', 'a'}\n"
          ],
          "name": "stdout"
        }
      ]
    },
    {
      "cell_type": "code",
      "metadata": {
        "colab": {
          "base_uri": "https://localhost:8080/"
        },
        "id": "RvqQ4B_oDDru",
        "outputId": "98530e9f-91a3-4d56-edde-5074110680f7"
      },
      "source": [
        "set1={\"a\",\"b\",\"c\"}\r\n",
        "set2={1,2,3}\r\n",
        "set1.update(set2)\r\n",
        "print(set1)"
      ],
      "execution_count": null,
      "outputs": [
        {
          "output_type": "stream",
          "text": [
            "{'c', 1, 2, 3, 'b', 'a'}\n"
          ],
          "name": "stdout"
        }
      ]
    },
    {
      "cell_type": "code",
      "metadata": {
        "colab": {
          "base_uri": "https://localhost:8080/"
        },
        "id": "PH_DDdGxDmWe",
        "outputId": "9c5f6b9c-1520-4d05-b0d4-fb135350bbf5"
      },
      "source": [
        "set1={\"a\",\"b\",\"c\"}\r\n",
        "mylist=[1,2]\r\n",
        "set1.update(mylist)\r\n",
        "print(set1)"
      ],
      "execution_count": null,
      "outputs": [
        {
          "output_type": "stream",
          "text": [
            "{1, 2, 'c', 'b', 'a'}\n"
          ],
          "name": "stdout"
        }
      ]
    },
    {
      "cell_type": "code",
      "metadata": {
        "colab": {
          "base_uri": "https://localhost:8080/"
        },
        "id": "YhjNR0CuEJ3O",
        "outputId": "138f90e5-a5a0-4e5c-d541-3cb4c41c9e31"
      },
      "source": [
        "set1={\"a\",\"b\",\"c\"}\r\n",
        "set2={\"a\",\"b\",\"c\"}\r\n",
        "set3=set1.union(set2)\r\n",
        "print(set3)"
      ],
      "execution_count": null,
      "outputs": [
        {
          "output_type": "stream",
          "text": [
            "{'c', 'b', 'a'}\n"
          ],
          "name": "stdout"
        }
      ]
    },
    {
      "cell_type": "code",
      "metadata": {
        "colab": {
          "base_uri": "https://localhost:8080/"
        },
        "id": "qwgviR5oEgpL",
        "outputId": "f1cb1b5c-225a-49d6-fa90-8f414f7b37f5"
      },
      "source": [
        "a=[1,2,3,4,1,2]        #converting list into set\r\n",
        "s=set(a)\r\n",
        "print(type(s))\r\n",
        "print(s)"
      ],
      "execution_count": null,
      "outputs": [
        {
          "output_type": "stream",
          "text": [
            "<class 'set'>\n",
            "{1, 2, 3, 4}\n"
          ],
          "name": "stdout"
        }
      ]
    },
    {
      "cell_type": "code",
      "metadata": {
        "colab": {
          "base_uri": "https://localhost:8080/"
        },
        "id": "CqJlQtJVFkDU",
        "outputId": "fe5cf853-dcbb-4739-96cd-b24d242b8146"
      },
      "source": [
        "fruits={\"apple\",\"banana\",\"cherry\"}\r\n",
        "fruits.add(\"orange\")\r\n",
        "print(fruits)"
      ],
      "execution_count": null,
      "outputs": [
        {
          "output_type": "stream",
          "text": [
            "{'apple', 'orange', 'banana', 'cherry'}\n"
          ],
          "name": "stdout"
        }
      ]
    },
    {
      "cell_type": "code",
      "metadata": {
        "colab": {
          "base_uri": "https://localhost:8080/"
        },
        "id": "CsfcPiePE_uu",
        "outputId": "9afa1460-ab35-4844-a7b0-aa0d1f08b5ef"
      },
      "source": [
        "fruits={\"apple\",\"banana\",\"cherry\"}\r\n",
        "morefruits=[\"orange\",\"mango\",\"grapes\"]\r\n",
        "fruits.update(morefruits)\r\n",
        "print(fruits)"
      ],
      "execution_count": null,
      "outputs": [
        {
          "output_type": "stream",
          "text": [
            "{'grapes', 'orange', 'banana', 'cherry', 'mango', 'apple'}\n"
          ],
          "name": "stdout"
        }
      ]
    },
    {
      "cell_type": "code",
      "metadata": {
        "colab": {
          "base_uri": "https://localhost:8080/"
        },
        "id": "Ikr07bQfGQYy",
        "outputId": "c59e4fdf-646c-4747-d2b1-e9cc4796b9fc"
      },
      "source": [
        "fruits={\"apple\",\"banana\",\"cherry\"}\r\n",
        "fruits.remove(\"banana\")\r\n",
        "print(fruits)"
      ],
      "execution_count": null,
      "outputs": [
        {
          "output_type": "stream",
          "text": [
            "{'apple', 'cherry'}\n"
          ],
          "name": "stdout"
        }
      ]
    },
    {
      "cell_type": "code",
      "metadata": {
        "colab": {
          "base_uri": "https://localhost:8080/"
        },
        "id": "-FJk5nsRG-cf",
        "outputId": "4477373d-5283-45e8-fa0f-b4ef586f0964"
      },
      "source": [
        "fruits={\"apple\",\"banana\",\"cherry\"}\r\n",
        "fruits.discard(\"banana\")\r\n",
        "print(fruits)"
      ],
      "execution_count": null,
      "outputs": [
        {
          "output_type": "stream",
          "text": [
            "{'apple', 'cherry'}\n"
          ],
          "name": "stdout"
        }
      ]
    },
    {
      "cell_type": "code",
      "metadata": {
        "colab": {
          "base_uri": "https://localhost:8080/"
        },
        "id": "5xvrWbpzHRKu",
        "outputId": "7afb1a90-e334-42c6-9171-a78543af2d63"
      },
      "source": [
        "x=[1,2,1,2,3]\r\n",
        "y=set(x)\r\n",
        "print(len(y))\r\n",
        "print(y)"
      ],
      "execution_count": null,
      "outputs": [
        {
          "output_type": "stream",
          "text": [
            "3\n",
            "{1, 2, 3}\n"
          ],
          "name": "stdout"
        }
      ]
    },
    {
      "cell_type": "code",
      "metadata": {
        "colab": {
          "base_uri": "https://localhost:8080/"
        },
        "id": "DiBvzRUZHzle",
        "outputId": "ad7ee5fb-7e9a-4738-bc92-e6921f1ff13b"
      },
      "source": [
        "today={\r\n",
        "    \"day\":\"thursday\",\r\n",
        "    \"date\":\"7/01/2021\",\r\n",
        "    \"month\":\"january\"\r\n",
        "}\r\n",
        "print(today)"
      ],
      "execution_count": null,
      "outputs": [
        {
          "output_type": "stream",
          "text": [
            "{'day': 'thursday', 'date': '7/01/2021', 'month': 'january'}\n"
          ],
          "name": "stdout"
        }
      ]
    },
    {
      "cell_type": "code",
      "metadata": {
        "colab": {
          "base_uri": "https://localhost:8080/"
        },
        "id": "-G2WEXdbJap1",
        "outputId": "fa63f115-aa2b-4bc9-d955-4e8820b6486d"
      },
      "source": [
        "help(set)"
      ],
      "execution_count": null,
      "outputs": [
        {
          "output_type": "stream",
          "text": [
            "Help on class set in module builtins:\n",
            "\n",
            "class set(object)\n",
            " |  set() -> new empty set object\n",
            " |  set(iterable) -> new set object\n",
            " |  \n",
            " |  Build an unordered collection of unique elements.\n",
            " |  \n",
            " |  Methods defined here:\n",
            " |  \n",
            " |  __and__(self, value, /)\n",
            " |      Return self&value.\n",
            " |  \n",
            " |  __contains__(...)\n",
            " |      x.__contains__(y) <==> y in x.\n",
            " |  \n",
            " |  __eq__(self, value, /)\n",
            " |      Return self==value.\n",
            " |  \n",
            " |  __ge__(self, value, /)\n",
            " |      Return self>=value.\n",
            " |  \n",
            " |  __getattribute__(self, name, /)\n",
            " |      Return getattr(self, name).\n",
            " |  \n",
            " |  __gt__(self, value, /)\n",
            " |      Return self>value.\n",
            " |  \n",
            " |  __iand__(self, value, /)\n",
            " |      Return self&=value.\n",
            " |  \n",
            " |  __init__(self, /, *args, **kwargs)\n",
            " |      Initialize self.  See help(type(self)) for accurate signature.\n",
            " |  \n",
            " |  __ior__(self, value, /)\n",
            " |      Return self|=value.\n",
            " |  \n",
            " |  __isub__(self, value, /)\n",
            " |      Return self-=value.\n",
            " |  \n",
            " |  __iter__(self, /)\n",
            " |      Implement iter(self).\n",
            " |  \n",
            " |  __ixor__(self, value, /)\n",
            " |      Return self^=value.\n",
            " |  \n",
            " |  __le__(self, value, /)\n",
            " |      Return self<=value.\n",
            " |  \n",
            " |  __len__(self, /)\n",
            " |      Return len(self).\n",
            " |  \n",
            " |  __lt__(self, value, /)\n",
            " |      Return self<value.\n",
            " |  \n",
            " |  __ne__(self, value, /)\n",
            " |      Return self!=value.\n",
            " |  \n",
            " |  __new__(*args, **kwargs) from builtins.type\n",
            " |      Create and return a new object.  See help(type) for accurate signature.\n",
            " |  \n",
            " |  __or__(self, value, /)\n",
            " |      Return self|value.\n",
            " |  \n",
            " |  __rand__(self, value, /)\n",
            " |      Return value&self.\n",
            " |  \n",
            " |  __reduce__(...)\n",
            " |      Return state information for pickling.\n",
            " |  \n",
            " |  __repr__(self, /)\n",
            " |      Return repr(self).\n",
            " |  \n",
            " |  __ror__(self, value, /)\n",
            " |      Return value|self.\n",
            " |  \n",
            " |  __rsub__(self, value, /)\n",
            " |      Return value-self.\n",
            " |  \n",
            " |  __rxor__(self, value, /)\n",
            " |      Return value^self.\n",
            " |  \n",
            " |  __sizeof__(...)\n",
            " |      S.__sizeof__() -> size of S in memory, in bytes\n",
            " |  \n",
            " |  __sub__(self, value, /)\n",
            " |      Return self-value.\n",
            " |  \n",
            " |  __xor__(self, value, /)\n",
            " |      Return self^value.\n",
            " |  \n",
            " |  add(...)\n",
            " |      Add an element to a set.\n",
            " |      \n",
            " |      This has no effect if the element is already present.\n",
            " |  \n",
            " |  clear(...)\n",
            " |      Remove all elements from this set.\n",
            " |  \n",
            " |  copy(...)\n",
            " |      Return a shallow copy of a set.\n",
            " |  \n",
            " |  difference(...)\n",
            " |      Return the difference of two or more sets as a new set.\n",
            " |      \n",
            " |      (i.e. all elements that are in this set but not the others.)\n",
            " |  \n",
            " |  difference_update(...)\n",
            " |      Remove all elements of another set from this set.\n",
            " |  \n",
            " |  discard(...)\n",
            " |      Remove an element from a set if it is a member.\n",
            " |      \n",
            " |      If the element is not a member, do nothing.\n",
            " |  \n",
            " |  intersection(...)\n",
            " |      Return the intersection of two sets as a new set.\n",
            " |      \n",
            " |      (i.e. all elements that are in both sets.)\n",
            " |  \n",
            " |  intersection_update(...)\n",
            " |      Update a set with the intersection of itself and another.\n",
            " |  \n",
            " |  isdisjoint(...)\n",
            " |      Return True if two sets have a null intersection.\n",
            " |  \n",
            " |  issubset(...)\n",
            " |      Report whether another set contains this set.\n",
            " |  \n",
            " |  issuperset(...)\n",
            " |      Report whether this set contains another set.\n",
            " |  \n",
            " |  pop(...)\n",
            " |      Remove and return an arbitrary set element.\n",
            " |      Raises KeyError if the set is empty.\n",
            " |  \n",
            " |  remove(...)\n",
            " |      Remove an element from a set; it must be a member.\n",
            " |      \n",
            " |      If the element is not a member, raise a KeyError.\n",
            " |  \n",
            " |  symmetric_difference(...)\n",
            " |      Return the symmetric difference of two sets as a new set.\n",
            " |      \n",
            " |      (i.e. all elements that are in exactly one of the sets.)\n",
            " |  \n",
            " |  symmetric_difference_update(...)\n",
            " |      Update a set with the symmetric difference of itself and another.\n",
            " |  \n",
            " |  union(...)\n",
            " |      Return the union of sets as a new set.\n",
            " |      \n",
            " |      (i.e. all elements that are in either set.)\n",
            " |  \n",
            " |  update(...)\n",
            " |      Update a set with the union of itself and others.\n",
            " |  \n",
            " |  ----------------------------------------------------------------------\n",
            " |  Data and other attributes defined here:\n",
            " |  \n",
            " |  __hash__ = None\n",
            "\n"
          ],
          "name": "stdout"
        }
      ]
    },
    {
      "cell_type": "code",
      "metadata": {
        "colab": {
          "base_uri": "https://localhost:8080/"
        },
        "id": "iz2vPhSlKQOy",
        "outputId": "10ee1670-bc84-4535-9ea2-01a589bff669"
      },
      "source": [
        "thisdict={\r\n",
        "    \"brand\":\"ford\",\r\n",
        "    \"model\":\"mustang\",\r\n",
        "    \"year\":\"1964\",\r\n",
        "    \"year\":\"2021\",\r\n",
        "    \"model\":\"lamborgini\"\r\n",
        "}\r\n",
        "x=thisdict[\"model\"]\r\n",
        "print(x)\r\n",
        "print(len(thisdict))\r\n",
        "print(thisdict)"
      ],
      "execution_count": null,
      "outputs": [
        {
          "output_type": "stream",
          "text": [
            "lamborgini\n",
            "3\n",
            "{'brand': 'ford', 'model': 'lamborgini', 'year': '2021'}\n"
          ],
          "name": "stdout"
        }
      ]
    },
    {
      "cell_type": "code",
      "metadata": {
        "colab": {
          "base_uri": "https://localhost:8080/"
        },
        "id": "p2V1lQ7LK-Ze",
        "outputId": "c940e32e-1326-4e9c-f617-02b5cf970662"
      },
      "source": [
        "thisdict={\r\n",
        "    \"brand\":\"ford\",\r\n",
        "    \"model\":\"mustang\",\r\n",
        "    \"year\":\"1964\",\r\n",
        "}\r\n",
        "x=thisdict.keys()\r\n",
        "print(x)\r\n",
        "x=thisdict.values()\r\n",
        "print(x)\r\n",
        "thisdict[\"year\"]=2021\r\n",
        "print(x)"
      ],
      "execution_count": null,
      "outputs": [
        {
          "output_type": "stream",
          "text": [
            "dict_keys(['brand', 'model', 'year'])\n",
            "dict_values(['ford', 'mustang', '1964'])\n",
            "dict_values(['ford', 'mustang', 2021])\n"
          ],
          "name": "stdout"
        }
      ]
    },
    {
      "cell_type": "code",
      "metadata": {
        "colab": {
          "base_uri": "https://localhost:8080/"
        },
        "id": "xla_7plmMYv_",
        "outputId": "71d14af3-efe3-43cb-b80f-b6478fd3d190"
      },
      "source": [
        "thisdict={\r\n",
        "    \"brand\":\"ford\",\r\n",
        "    \"model\":\"mustang\",\r\n",
        "    \"year\":\"1964\"\r\n",
        "}\r\n",
        "thisdict.update({\"year\":2021})\r\n",
        "print(thisdict)"
      ],
      "execution_count": null,
      "outputs": [
        {
          "output_type": "stream",
          "text": [
            "{'brand': 'ford', 'model': 'mustang', 'year': 2021}\n"
          ],
          "name": "stdout"
        }
      ]
    },
    {
      "cell_type": "code",
      "metadata": {
        "colab": {
          "base_uri": "https://localhost:8080/"
        },
        "id": "AKI-m7lVOA3U",
        "outputId": "35d49ec2-4af5-4872-ae4b-9c731fa82d1c"
      },
      "source": [
        "thisdict={\r\n",
        "    \"brand\":\"ford\",\r\n",
        "    \"model\":\"mustang\",\r\n",
        "    \"year\":\"1964\"\r\n",
        "}\r\n",
        "thisdict[\"color\"]=\"red\"\r\n",
        "print(thisdict)\r\n",
        "thisdict.update({\"color\":\"red\"})\r\n",
        "print(thisdict)\r\n"
      ],
      "execution_count": null,
      "outputs": [
        {
          "output_type": "stream",
          "text": [
            "{'brand': 'ford', 'model': 'mustang', 'year': '1964', 'color': 'red'}\n",
            "{'brand': 'ford', 'model': 'mustang', 'year': '1964', 'color': 'red'}\n"
          ],
          "name": "stdout"
        }
      ]
    },
    {
      "cell_type": "code",
      "metadata": {
        "colab": {
          "base_uri": "https://localhost:8080/"
        },
        "id": "nEW6qw8MOoi-",
        "outputId": "a8336c44-a4a6-4aee-b64b-62c895fbb665"
      },
      "source": [
        "thisdict={\r\n",
        "    \"brand\":\"ford\",\r\n",
        "    \"model\":\"mustang\",\r\n",
        "    \"year\":\"1964\"\r\n",
        "}\r\n",
        "thisdict.pop(\"model\")\r\n",
        "print(thisdict)"
      ],
      "execution_count": null,
      "outputs": [
        {
          "output_type": "stream",
          "text": [
            "{'brand': 'ford', 'year': '1964'}\n"
          ],
          "name": "stdout"
        }
      ]
    },
    {
      "cell_type": "code",
      "metadata": {
        "colab": {
          "base_uri": "https://localhost:8080/"
        },
        "id": "LiKCWbkBPUau",
        "outputId": "a9346f60-a1c7-4cd1-dfd6-7278f4fd3905"
      },
      "source": [
        "thisdict={\r\n",
        "    \"brand\":\"ford\",\r\n",
        "    \"model\":\"mustang\",\r\n",
        "    \"year\":\"1964\"\r\n",
        "}\r\n",
        "thisdict.popitem()\r\n",
        "print(thisdict)"
      ],
      "execution_count": null,
      "outputs": [
        {
          "output_type": "stream",
          "text": [
            "{'brand': 'ford', 'model': 'mustang'}\n"
          ],
          "name": "stdout"
        }
      ]
    },
    {
      "cell_type": "code",
      "metadata": {
        "colab": {
          "base_uri": "https://localhost:8080/"
        },
        "id": "bgpna_iuPtJv",
        "outputId": "4ae65a05-f629-4bfe-d42f-0a181d6a0614"
      },
      "source": [
        "thisdict={\r\n",
        "    \"brand\":\"ford\",\r\n",
        "    \"model\":\"mustang\",\r\n",
        "    \"year\":\"1964\"\r\n",
        "}\r\n",
        "del thisdict[\"model\"]\r\n",
        "print(thisdict)"
      ],
      "execution_count": null,
      "outputs": [
        {
          "output_type": "stream",
          "text": [
            "{'brand': 'ford', 'year': '1964'}\n"
          ],
          "name": "stdout"
        }
      ]
    },
    {
      "cell_type": "code",
      "metadata": {
        "colab": {
          "base_uri": "https://localhost:8080/"
        },
        "id": "rjX0yshOQRke",
        "outputId": "0ade609c-1a43-4e56-aa7b-dcfe34df3871"
      },
      "source": [
        "car={\r\n",
        "    \"brand\":\"ford\",\r\n",
        "    \"model\":\"mustang\",\r\n",
        "    \"year\":\"1964\"\r\n",
        "}\r\n",
        "x=car.get(\"model\")\r\n",
        "print(x)"
      ],
      "execution_count": null,
      "outputs": [
        {
          "output_type": "stream",
          "text": [
            "mustang\n"
          ],
          "name": "stdout"
        }
      ]
    },
    {
      "cell_type": "code",
      "metadata": {
        "colab": {
          "base_uri": "https://localhost:8080/"
        },
        "id": "q2zO1IjqQ4TO",
        "outputId": "7223d36d-c10d-4d9a-c7de-8e07b14af233"
      },
      "source": [
        "car={\r\n",
        "    \"brand\":\"ford\",\r\n",
        "    \"model\":\"mustang\",\r\n",
        "    \"year\":\"1964\"\r\n",
        "}\r\n",
        "car[\"color\"]=\"red\"\r\n",
        "print(car)"
      ],
      "execution_count": null,
      "outputs": [
        {
          "output_type": "stream",
          "text": [
            "{'brand': 'ford', 'model': 'mustang', 'year': '1964', 'color': 'red'}\n"
          ],
          "name": "stdout"
        }
      ]
    },
    {
      "cell_type": "code",
      "metadata": {
        "colab": {
          "base_uri": "https://localhost:8080/"
        },
        "id": "NdkvUgSqSFef",
        "outputId": "ebb66743-f1dd-469d-88ac-14423b490594"
      },
      "source": [
        "car={\r\n",
        "    \"brand\":\"ford\",\r\n",
        "    \"model\":\"mustang\",\r\n",
        "    \"year\":\"1964\"\r\n",
        "}\r\n",
        "car.pop(\"model\")\r\n",
        "print(car)"
      ],
      "execution_count": null,
      "outputs": [
        {
          "output_type": "stream",
          "text": [
            "{'brand': 'ford', 'year': '1964'}\n"
          ],
          "name": "stdout"
        }
      ]
    },
    {
      "cell_type": "code",
      "metadata": {
        "colab": {
          "base_uri": "https://localhost:8080/"
        },
        "id": "WBBP9AuwZZjh",
        "outputId": "06de28ed-5e73-4314-8059-81dbf9979b58"
      },
      "source": [
        "a=33\r\n",
        "b=200\r\n",
        "if b>a:\r\n",
        "  print(\"b is greater than a\")"
      ],
      "execution_count": null,
      "outputs": [
        {
          "output_type": "stream",
          "text": [
            "b is greater than a\n"
          ],
          "name": "stdout"
        }
      ]
    },
    {
      "cell_type": "code",
      "metadata": {
        "colab": {
          "base_uri": "https://localhost:8080/"
        },
        "id": "O4LBKTI8Safe",
        "outputId": "21b47a2d-b917-4126-86c9-3d97859ac4a4"
      },
      "source": [
        "a=33\r\n",
        "b=33\r\n",
        "if b>a:\r\n",
        "  print(\"b is greater than a\")\r\n",
        "elif a==b:\r\n",
        "  print(\"a and b are equal\")\r\n",
        " "
      ],
      "execution_count": null,
      "outputs": [
        {
          "output_type": "stream",
          "text": [
            "a and b are equal\n"
          ],
          "name": "stdout"
        }
      ]
    },
    {
      "cell_type": "code",
      "metadata": {
        "colab": {
          "base_uri": "https://localhost:8080/"
        },
        "id": "__Fs8rvNaKSN",
        "outputId": "d1dacd4e-8c4f-49bb-9de0-5a7bfbb540a5"
      },
      "source": [
        "a=36\r\n",
        "b=33\r\n",
        "if b>a:\r\n",
        "  print(\"b is greater than a\")\r\n",
        "elif a==b:\r\n",
        "  print(\"a and b are equal\")\r\n",
        "else:\r\n",
        "  print(\"a is greater than b\")\r\n",
        "\r\n"
      ],
      "execution_count": null,
      "outputs": [
        {
          "output_type": "stream",
          "text": [
            "a is greater than b\n"
          ],
          "name": "stdout"
        }
      ]
    },
    {
      "cell_type": "code",
      "metadata": {
        "colab": {
          "base_uri": "https://localhost:8080/"
        },
        "id": "zN1HCntOamK3",
        "outputId": "238af086-d301-4abd-c8be-d626ff4d169c"
      },
      "source": [
        "a=50\r\n",
        "b=10\r\n",
        "if a>b:\r\n",
        "  print(\"hello world\")"
      ],
      "execution_count": null,
      "outputs": [
        {
          "output_type": "stream",
          "text": [
            "hello world\n"
          ],
          "name": "stdout"
        }
      ]
    },
    {
      "cell_type": "code",
      "metadata": {
        "id": "xoLPl7HGa8zK"
      },
      "source": [
        "a=5\r\n",
        "b=10\r\n",
        "if a>b:\r\n",
        "  print(\"hello world\")"
      ],
      "execution_count": null,
      "outputs": []
    },
    {
      "cell_type": "code",
      "metadata": {
        "colab": {
          "base_uri": "https://localhost:8080/"
        },
        "id": "n1y-81uabaao",
        "outputId": "28ee532b-5f1c-4e78-bbfa-12e5995ab5f8"
      },
      "source": [
        "a=input(\"enter value of a\")\r\n",
        "b=input(\"enter value of b\")\r\n",
        "c=input(\"enter value of c\")\r\n",
        "if a>b:\r\n",
        "  if a>c:\r\n",
        "     print(\"a is grater\")\r\n",
        "  else:\r\n",
        "    print(\"c is greater\")\r\n",
        "\r\n",
        "elif b>c:\r\n",
        "  print(\"b is greater\")\r\n",
        "else:\r\n",
        "  print(\"c is geater\")"
      ],
      "execution_count": null,
      "outputs": [
        {
          "output_type": "stream",
          "text": [
            "enter value of a10\n",
            "enter value of b70\n",
            "enter value of c20\n",
            "b is greater\n"
          ],
          "name": "stdout"
        }
      ]
    },
    {
      "cell_type": "code",
      "metadata": {
        "colab": {
          "base_uri": "https://localhost:8080/"
        },
        "id": "SBYA5Sc8b02I",
        "outputId": "88bc5748-d942-4222-8427-4b871e0435bb"
      },
      "source": [
        "i=1\r\n",
        "while i<6:\r\n",
        "  print(i)\r\n",
        "  i+=1"
      ],
      "execution_count": null,
      "outputs": [
        {
          "output_type": "stream",
          "text": [
            "1\n",
            "2\n",
            "3\n",
            "4\n",
            "5\n"
          ],
          "name": "stdout"
        }
      ]
    },
    {
      "cell_type": "code",
      "metadata": {
        "colab": {
          "base_uri": "https://localhost:8080/"
        },
        "id": "f_sOgZJafkON",
        "outputId": "a83a00ad-c64f-4e10-b792-5247d97a652d"
      },
      "source": [
        "i=1\r\n",
        "while i<6:\r\n",
        "  print(i)\r\n",
        "  if i==3:\r\n",
        "    break\r\n",
        "  i+=1"
      ],
      "execution_count": null,
      "outputs": [
        {
          "output_type": "stream",
          "text": [
            "1\n",
            "2\n",
            "3\n"
          ],
          "name": "stdout"
        }
      ]
    },
    {
      "cell_type": "code",
      "metadata": {
        "colab": {
          "base_uri": "https://localhost:8080/"
        },
        "id": "6SulbyMnf4N3",
        "outputId": "6dcf6c8e-c846-402c-fbc9-2851b74363f6"
      },
      "source": [
        "i=0\r\n",
        "while i<6:\r\n",
        "  i+=1\r\n",
        "  if i==3:\r\n",
        "    continue\r\n",
        "print(i)\r\n",
        "\r\n"
      ],
      "execution_count": null,
      "outputs": [
        {
          "output_type": "stream",
          "text": [
            "6\n"
          ],
          "name": "stdout"
        }
      ]
    },
    {
      "cell_type": "code",
      "metadata": {
        "colab": {
          "base_uri": "https://localhost:8080/"
        },
        "id": "Q06wKUZAg9FF",
        "outputId": "a3b48bc0-f098-495a-cc57-c2522d0ec8c8"
      },
      "source": [
        "n=int(input())\r\n",
        "sum=0\r\n",
        "while (n):\r\n",
        "  sum += n\r\n",
        "  n-=1\r\n",
        "print(sum)\r\n"
      ],
      "execution_count": null,
      "outputs": [
        {
          "output_type": "stream",
          "text": [
            "3\n",
            "6\n"
          ],
          "name": "stdout"
        }
      ]
    },
    {
      "cell_type": "code",
      "metadata": {
        "colab": {
          "base_uri": "https://localhost:8080/"
        },
        "id": "EiZqeoHQjtlY",
        "outputId": "5d894288-c9f1-421c-c2ab-4b4c54ea05d8"
      },
      "source": [
        "fruits=[\"apple\",\"banana\",\"cherry\"]\r\n",
        "for x in fruits:\r\n",
        "  print(x)"
      ],
      "execution_count": null,
      "outputs": [
        {
          "output_type": "stream",
          "text": [
            "apple\n",
            "banana\n",
            "cherry\n"
          ],
          "name": "stdout"
        }
      ]
    },
    {
      "cell_type": "code",
      "metadata": {
        "colab": {
          "base_uri": "https://localhost:8080/"
        },
        "id": "yUePi27nlaYC",
        "outputId": "f972f63f-0630-46c4-c560-73ac4cf5abf2"
      },
      "source": [
        "for x in \"banana\":\r\n",
        "  print(x)"
      ],
      "execution_count": null,
      "outputs": [
        {
          "output_type": "stream",
          "text": [
            "b\n",
            "a\n",
            "n\n",
            "a\n",
            "n\n",
            "a\n"
          ],
          "name": "stdout"
        }
      ]
    },
    {
      "cell_type": "code",
      "metadata": {
        "colab": {
          "base_uri": "https://localhost:8080/"
        },
        "id": "KoxIlqP3mSOT",
        "outputId": "5afd88d8-d5f1-4b2a-9992-a83c4dcc67ed"
      },
      "source": [
        "fruits=[\"apple\",\"banana\",\"cherry\"]\r\n",
        "for x in fruits:\r\n",
        "  print(x)\r\n",
        "  if x == \"banana\":\r\n",
        "    break\r\n"
      ],
      "execution_count": null,
      "outputs": [
        {
          "output_type": "stream",
          "text": [
            "apple\n",
            "banana\n"
          ],
          "name": "stdout"
        }
      ]
    },
    {
      "cell_type": "code",
      "metadata": {
        "colab": {
          "base_uri": "https://localhost:8080/"
        },
        "id": "xSYDRKjpmp9s",
        "outputId": "c28efca7-7fec-4e0a-9b9e-994b1680fa30"
      },
      "source": [
        "for x in range(5):\r\n",
        "  print(x)"
      ],
      "execution_count": null,
      "outputs": [
        {
          "output_type": "stream",
          "text": [
            "0\n",
            "1\n",
            "2\n",
            "3\n",
            "4\n"
          ],
          "name": "stdout"
        }
      ]
    },
    {
      "cell_type": "code",
      "metadata": {
        "colab": {
          "base_uri": "https://localhost:8080/"
        },
        "id": "fn2287krnYH5",
        "outputId": "c04f1f9f-9fb1-4a37-e728-e7d83385dfdb"
      },
      "source": [
        "for x in range(3,30):\r\n",
        "  print(x)"
      ],
      "execution_count": null,
      "outputs": [
        {
          "output_type": "stream",
          "text": [
            "3\n",
            "4\n",
            "5\n",
            "6\n",
            "7\n",
            "8\n",
            "9\n",
            "10\n",
            "11\n",
            "12\n",
            "13\n",
            "14\n",
            "15\n",
            "16\n",
            "17\n",
            "18\n",
            "19\n",
            "20\n",
            "21\n",
            "22\n",
            "23\n",
            "24\n",
            "25\n",
            "26\n",
            "27\n",
            "28\n",
            "29\n"
          ],
          "name": "stdout"
        }
      ]
    },
    {
      "cell_type": "code",
      "metadata": {
        "colab": {
          "base_uri": "https://localhost:8080/"
        },
        "id": "8-kVQ9hgniPn",
        "outputId": "b57474fb-fc49-412b-bf81-a34654a27b55"
      },
      "source": [
        "adj=[\"red\",\"big\",\"tasty\"]\r\n",
        "fruits=[\"apple\",\"banana\",\"cherry\"]\r\n",
        "for x in adj:\r\n",
        "  for y in fruits:\r\n",
        "    print(x,y)"
      ],
      "execution_count": null,
      "outputs": [
        {
          "output_type": "stream",
          "text": [
            "red apple\n",
            "red banana\n",
            "red cherry\n",
            "big apple\n",
            "big banana\n",
            "big cherry\n",
            "tasty apple\n",
            "tasty banana\n",
            "tasty cherry\n"
          ],
          "name": "stdout"
        }
      ]
    },
    {
      "cell_type": "code",
      "metadata": {
        "colab": {
          "base_uri": "https://localhost:8080/"
        },
        "id": "t6vW_gu7nxz2",
        "outputId": "5e2ff49e-4a39-4e36-aae9-d4933ddb5378"
      },
      "source": [
        "x=0\r\n",
        "while(x<100):\r\n",
        "  x+=2\r\n",
        "print(x)"
      ],
      "execution_count": null,
      "outputs": [
        {
          "output_type": "stream",
          "text": [
            "100\n"
          ],
          "name": "stdout"
        }
      ]
    },
    {
      "cell_type": "code",
      "metadata": {
        "colab": {
          "base_uri": "https://localhost:8080/"
        },
        "id": "EHxZDQxbonF9",
        "outputId": "5fbd46e7-6858-4fc1-f3cc-4f5d74875cf4"
      },
      "source": [
        "n=int(input())\r\n",
        "i=0\r\n",
        "even=[]\r\n",
        "odd=[]\r\n",
        "for i in range(n):\r\n",
        "  if i%2==0:\r\n",
        "    even.append(i)\r\n",
        "  else:\r\n",
        "    odd.append(i)\r\n",
        "print(odd)\r\n",
        "print(even)\r\n",
        "\r\n",
        "\r\n"
      ],
      "execution_count": null,
      "outputs": [
        {
          "output_type": "stream",
          "text": [
            "10\n",
            "[1, 3, 5, 7, 9]\n",
            "[0, 2, 4, 6, 8]\n"
          ],
          "name": "stdout"
        }
      ]
    },
    {
      "cell_type": "code",
      "metadata": {
        "id": "ChcUjf-8qGdy",
        "colab": {
          "base_uri": "https://localhost:8080/"
        },
        "outputId": "93e7787d-7fc4-44bd-9c1a-fd073ef2b67f"
      },
      "source": [
        "x=[]\r\n",
        "i=0\r\n",
        "for i in range (1,21):\r\n",
        "  x.append(i)\r\n",
        "print(x) \r\n"
      ],
      "execution_count": 204,
      "outputs": [
        {
          "output_type": "stream",
          "text": [
            "[1, 2, 3, 4, 5, 6, 7, 8, 9, 10, 11, 12, 13, 14, 15, 16, 17, 18, 19, 20]\n"
          ],
          "name": "stdout"
        }
      ]
    },
    {
      "cell_type": "code",
      "metadata": {
        "colab": {
          "base_uri": "https://localhost:8080/"
        },
        "id": "Ne51SXsoBUHh",
        "outputId": "85916ca9-973d-458f-cc94-5ea9fc2cf0b8"
      },
      "source": [
        "lst=[i for i in range(1,11)]\r\n",
        "print(lst)"
      ],
      "execution_count": 205,
      "outputs": [
        {
          "output_type": "stream",
          "text": [
            "[1, 2, 3, 4, 5, 6, 7, 8, 9, 10]\n"
          ],
          "name": "stdout"
        }
      ]
    },
    {
      "cell_type": "code",
      "metadata": {
        "colab": {
          "base_uri": "https://localhost:8080/"
        },
        "id": "4gd4EyQJDh5I",
        "outputId": "b9aa2069-1287-4fc3-a205-3e0af4d2d738"
      },
      "source": [
        "mylist=[1,1,2,4,5]\r\n",
        "print(all(mylist))\r\n"
      ],
      "execution_count": 214,
      "outputs": [
        {
          "output_type": "stream",
          "text": [
            "True\n"
          ],
          "name": "stdout"
        }
      ]
    },
    {
      "cell_type": "code",
      "metadata": {
        "colab": {
          "base_uri": "https://localhost:8080/"
        },
        "id": "sv_GvFxoFS10",
        "outputId": "ace21a38-915f-49b7-af8f-98ad125277ee"
      },
      "source": [
        "mylist2=[1,9,4,0]\r\n",
        "print(all(mylist2))"
      ],
      "execution_count": 216,
      "outputs": [
        {
          "output_type": "stream",
          "text": [
            "False\n"
          ],
          "name": "stdout"
        }
      ]
    },
    {
      "cell_type": "code",
      "metadata": {
        "colab": {
          "base_uri": "https://localhost:8080/"
        },
        "id": "8vr0Sq0iGv4t",
        "outputId": "f829951e-cd2b-4e79-b5e3-63de2bda4dd4"
      },
      "source": [
        "lst=[]\r\n",
        "for i in range(2,21):\r\n",
        "  isprime=True\r\n",
        "  for j in range(2,i):\r\n",
        "    if i%j==0:\r\n",
        "      isprime=False\r\n",
        "    if isprime:\r\n",
        "      lst.append(i)\r\n",
        "print(lst)"
      ],
      "execution_count": 222,
      "outputs": [
        {
          "output_type": "stream",
          "text": [
            "[3, 5, 5, 5, 7, 7, 7, 7, 7, 9, 11, 11, 11, 11, 11, 11, 11, 11, 11, 13, 13, 13, 13, 13, 13, 13, 13, 13, 13, 13, 15, 17, 17, 17, 17, 17, 17, 17, 17, 17, 17, 17, 17, 17, 17, 17, 19, 19, 19, 19, 19, 19, 19, 19, 19, 19, 19, 19, 19, 19, 19, 19, 19]\n"
          ],
          "name": "stdout"
        }
      ]
    },
    {
      "cell_type": "code",
      "metadata": {
        "colab": {
          "base_uri": "https://localhost:8080/"
        },
        "id": "_C7cROtBKKZO",
        "outputId": "77b05d15-e104-4cae-d92e-5712442e3ab4"
      },
      "source": [
        "primelist=[i for i in range(2,21)\r\n",
        "               if all(i%j!=0 for j in range(2,i))]\r\n",
        "print(primelist)"
      ],
      "execution_count": 223,
      "outputs": [
        {
          "output_type": "stream",
          "text": [
            "[2, 3, 5, 7, 11, 13, 17, 19]\n"
          ],
          "name": "stdout"
        }
      ]
    },
    {
      "cell_type": "code",
      "metadata": {
        "colab": {
          "base_uri": "https://localhost:8080/"
        },
        "id": "rpFK7GM_L6z4",
        "outputId": "c47970b6-8fc6-486f-b7ec-29c46a3ba4c3"
      },
      "source": [
        "lst=[i**2 for i in range(0,26) if i**2<26]\r\n",
        "print(lst)\r\n",
        "\r\n"
      ],
      "execution_count": 243,
      "outputs": [
        {
          "output_type": "stream",
          "text": [
            "[0, 1, 4, 9, 16, 25]\n"
          ],
          "name": "stdout"
        }
      ]
    },
    {
      "cell_type": "code",
      "metadata": {
        "id": "NKu4aYcfPN7a"
      },
      "source": [
        ""
      ],
      "execution_count": 243,
      "outputs": []
    },
    {
      "cell_type": "code",
      "metadata": {
        "colab": {
          "base_uri": "https://localhost:8080/"
        },
        "id": "oe1lIx1SXaDt",
        "outputId": "47e2963a-8c8b-4279-9dec-b3c356e35829"
      },
      "source": [
        "def my_func(a,b,c=3):\n",
        "  return (a,b,c) \n",
        "x,y,z=my_func(\"jack\",\"jill\") #arguments\n",
        "print(x,y,z)"
      ],
      "execution_count": 254,
      "outputs": [
        {
          "output_type": "stream",
          "text": [
            "jack jill 3\n"
          ],
          "name": "stdout"
        }
      ]
    },
    {
      "cell_type": "code",
      "metadata": {
        "id": "GlTtBG51YlhP"
      },
      "source": [
        ""
      ],
      "execution_count": null,
      "outputs": []
    }
  ]
}